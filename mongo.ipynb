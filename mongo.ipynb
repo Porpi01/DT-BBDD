{
 "cells": [
  {
   "cell_type": "code",
   "execution_count": 15,
   "id": "831f110f",
   "metadata": {},
   "outputs": [],
   "source": [
    "from pymongo.mongo_client import MongoClient\n",
    "from pymongo.server_api import ServerApi\n",
    "from dotenv import load_dotenv\n",
    "import os"
   ]
  },
  {
   "cell_type": "code",
   "execution_count": 16,
   "id": "0fb3e671",
   "metadata": {},
   "outputs": [
    {
     "name": "stdout",
     "output_type": "stream",
     "text": [
      "Pinged your deployment. You successfully connected to MongoDB!\n"
     ]
    }
   ],
   "source": [
    "# CONEXIÓN MONGODB\n",
    "load_dotenv()\n",
    "conexion = os.getenv(\"DATABASE_URL\")\n",
    "client = MongoClient(conexion, server_api=ServerApi('1'))\n",
    "try:\n",
    "    client.admin.command('ping')\n",
    "    print(\"Pinged your deployment. You successfully connected to MongoDB!\")\n",
    "except Exception as e:\n",
    "    print(e)"
   ]
  },
  {
   "cell_type": "code",
   "execution_count": 17,
   "id": "2e182168",
   "metadata": {},
   "outputs": [],
   "source": [
    "mydb = client[\"Cluster0\"]\n"
   ]
  },
  {
   "cell_type": "code",
   "execution_count": 24,
   "id": "d8e15be1",
   "metadata": {},
   "outputs": [],
   "source": [
    "usuario = mydb[\"usuario\"]\n"
   ]
  },
  {
   "cell_type": "code",
   "execution_count": 25,
   "id": "5aeba34d",
   "metadata": {},
   "outputs": [],
   "source": [
    "tusuario = {\n",
    "    \"nombre\": \"Carlos\",\n",
    "    \"apellido1\": \"Gonzalez\",\n",
    "    \"apellido2\": \"\",\n",
    "    \"email\": \"carlos@startup.com\",\n",
    "    \"teléfono\": \"123123123\",\n",
    "    \"rol\":\"startup\",\n",
    "    \"confirmed\": True,\n",
    "    \"password\": \"patitoelchiquito\",\n",
    "    \"empresa_id\": \"startup_001\",\n",
    "    \n",
    "}"
   ]
  },
  {
   "cell_type": "code",
   "execution_count": 26,
   "id": "2306b7a3",
   "metadata": {},
   "outputs": [
    {
     "name": "stdout",
     "output_type": "stream",
     "text": [
      "Usuario insertado con ID: 6878de4852353fe6dbb7b92f\n"
     ]
    }
   ],
   "source": [
    "resultado = usuario.insert_one(tusuario)\n",
    "print(f\"Usuario insertado con ID: {resultado.inserted_id}\")"
   ]
  },
  {
   "cell_type": "code",
   "execution_count": null,
   "id": "e0e9e068",
   "metadata": {},
   "outputs": [],
   "source": []
  }
 ],
 "metadata": {
  "kernelspec": {
   "display_name": "desafio_env",
   "language": "python",
   "name": "python3"
  },
  "language_info": {
   "codemirror_mode": {
    "name": "ipython",
    "version": 3
   },
   "file_extension": ".py",
   "mimetype": "text/x-python",
   "name": "python",
   "nbconvert_exporter": "python",
   "pygments_lexer": "ipython3",
   "version": "3.11.13"
  }
 },
 "nbformat": 4,
 "nbformat_minor": 5
}
