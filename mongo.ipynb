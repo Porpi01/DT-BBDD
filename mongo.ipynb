{
 "cells": [
  {
   "cell_type": "code",
   "execution_count": 59,
   "id": "831f110f",
   "metadata": {},
   "outputs": [],
   "source": [
    "from pymongo.mongo_client import MongoClient\n",
    "from pymongo.server_api import ServerApi\n",
    "from dotenv import load_dotenv\n",
    "import os"
   ]
  },
  {
   "cell_type": "code",
   "execution_count": 60,
   "id": "0fb3e671",
   "metadata": {},
   "outputs": [
    {
     "name": "stdout",
     "output_type": "stream",
     "text": [
      "Pinged your deployment. You successfully connected to MongoDB!\n"
     ]
    }
   ],
   "source": [
    "# CONEXIÓN MONGODB\n",
    "load_dotenv()\n",
    "conexion = os.getenv(\"DATABASE_URL\")\n",
    "client = MongoClient(conexion, server_api=ServerApi('1'))\n",
    "try:\n",
    "    client.admin.command('ping')\n",
    "    print(\"Pinged your deployment. You successfully connected to MongoDB!\")\n",
    "except Exception as e:\n",
    "    print(e)"
   ]
  },
  {
   "cell_type": "code",
   "execution_count": 61,
   "id": "2e182168",
   "metadata": {},
   "outputs": [],
   "source": [
    "mydb = client[\"Cluster0\"]\n"
   ]
  },
  {
   "cell_type": "code",
   "execution_count": 62,
   "id": "d8e15be1",
   "metadata": {},
   "outputs": [],
   "source": [
    "module = mydb[\"module\"]\n",
    "\n"
   ]
  },
  {
   "cell_type": "code",
   "execution_count": 63,
   "id": "5aeba34d",
   "metadata": {},
   "outputs": [],
   "source": [
    "tmodule1 = {\n",
    "    \"title\": \"Módulo 3. Estrategia de crecimiento digital\",\n",
    "    \"initialDate\": \"August 1, 2025\",\n",
    "    \"finalDate\": \"October 15, 2025\",\n",
    "    \"session\": \"Sesión 2: Optimización de embudos de conversión\",\n",
    "    \"material\": \"https://drive.google.com/drive/folders/1a2b3c4d5e6f7g8h9i\"   \n",
    "}\n",
    "tmodule2 = {\n",
    "    \"title\": \"Módulo 4: Marketing de producto y validación\",\n",
    "    \"initialDate\": \"October 20, 2025\",\n",
    "    \"finalDate\": \"December 5, 2025\",\n",
    "    \"session\": \"Sesión 1: Estrategias de validación de mercado\",\n",
    "    \"material\": \"https://drive.google.com/drive/folders/abcde12345\"   \n",
    "}\n",
    "tmodule3 = {\n",
    "    \"title\": \"Módulo 5: Preparación para inversión y pitch\",\n",
    "    \"initialDate\": \"January 10, 2026\",\n",
    "    \"finalDate\": \"March 15, 2026\",\n",
    "    \"session\": \"Sesión 3: Cómo construir un pitch ganador\",\n",
    "    \"material\": \"https://drive.google.com/drive/folders/xyz67890\"   \n",
    "}"
   ]
  },
  {
   "cell_type": "code",
   "execution_count": 64,
   "id": "2306b7a3",
   "metadata": {},
   "outputs": [
    {
     "name": "stdout",
     "output_type": "stream",
     "text": [
      "Usuario insertado con ID: [ObjectId('68792bf2df14b1b7d0017daa'), ObjectId('68792bf2df14b1b7d0017dab'), ObjectId('68792bf2df14b1b7d0017dac')]\n"
     ]
    }
   ],
   "source": [
    "resultado = module.insert_many([tmodule1,tmodule2,tmodule3])\n",
    "print(f\"Usuario insertado con ID: {resultado.inserted_ids}\")"
   ]
  },
  {
   "cell_type": "code",
   "execution_count": 65,
   "id": "e0e9e068",
   "metadata": {},
   "outputs": [],
   "source": [
    "# Tabla Session\n",
    "\n",
    "session = mydb[\"session\"]\n"
   ]
  },
  {
   "cell_type": "code",
   "execution_count": 66,
   "id": "722e0650",
   "metadata": {},
   "outputs": [],
   "source": [
    "session1 = {\n",
    "    \"name\": \"Session 1: Market Research Basics\",\n",
    "    \"date\": \"March 10, 2025\",\n",
    "    \"trainer\": \"Alice Johnson\",\n",
    "    \"position\": \"Market Analyst\",\n",
    "    \"company\": \"Startup ABC\",\n",
    "    \"material\": \"https://drive.google.com/drive/folders/example1\",\n",
    "    \"survey\": \"https://forms.gle/surveyform1\",\n",
    "    \"module_id\": \"64f1a23b9cd0e3e1f10a1234\"\n",
    "}\n",
    "\n",
    "session2 = {\n",
    "    \"name\": \"Session 2: Building a Minimum Viable Product\",\n",
    "    \"date\": \"March 10, 2025\",\n",
    "    \"trainer\": \"Carlos Martínez\",\n",
    "    \"position\": \"Product Manager\",\n",
    "    \"company\": \"InnovateXYZ\",\n",
    "    \"material\": \"https://drive.google.com/drive/folders/example2\",\n",
    "    \"survey\": \"https://forms.gle/surveyform2\",\n",
    "    \"module_id\": \"64f1a23b9cd0e3e1f10a5678\"\n",
    "}\n",
    "\n",
    "session3 = {\n",
    "    \"name\": \"Session 3: Growth Hacking Techniques\",\n",
    "    \"date\": \"March 10, 2025\",\n",
    "    \"trainer\": \"Linda Wang\",\n",
    "    \"position\": \"Growth Strategist\",\n",
    "    \"company\": \"ScaleUp Pro\",\n",
    "    \"material\": \"https://drive.google.com/drive/folders/example3\",\n",
    "    \"survey\": \"https://forms.gle/surveyform3\",\n",
    "    \"module_id\": \"64f1a23b9cd0e3e1f10a9101\"\n",
    "}"
   ]
  },
  {
   "cell_type": "code",
   "execution_count": 67,
   "id": "2dc9ae8a",
   "metadata": {},
   "outputs": [
    {
     "name": "stdout",
     "output_type": "stream",
     "text": [
      "Usuario insertado con ID: [ObjectId('68792c5edf14b1b7d0017dad'), ObjectId('68792c5edf14b1b7d0017dae'), ObjectId('68792c5edf14b1b7d0017daf')]\n"
     ]
    }
   ],
   "source": [
    "resultado = session.insert_many([session1,session2,session3])\n",
    "print(f\"Usuario insertado con ID: {resultado.inserted_ids}\")"
   ]
  },
  {
   "cell_type": "code",
   "execution_count": 68,
   "id": "861883fc",
   "metadata": {},
   "outputs": [],
   "source": [
    "user = mydb[\"user\"]"
   ]
  },
  {
   "cell_type": "code",
   "execution_count": 69,
   "id": "816b78e3",
   "metadata": {},
   "outputs": [],
   "source": [
    "user1 = {\n",
    "    \"firstName\": \"Laura\",\n",
    "    \"lastName\": \"Gómez\",\n",
    "    \"secondLastName\": \"Martínez\",\n",
    "    \"email\": \"laura.gomez@example.com\",\n",
    "    \"phone\": \"+34 600 123 456\",\n",
    "    \"role\": \"mentor\",\n",
    "    \"confirmed\": True,\n",
    "    \"company\": \"TechBoost\",\n",
    "    \"password\": \"hashedpassword123\"\n",
    "}\n",
    "\n",
    "user2 = {\n",
    "    \"firstName\": \"Michael\",\n",
    "    \"lastName\": \"Smith\",\n",
    "    \"secondLastName\": \"Brown\",\n",
    "    \"email\": \"michael.smith@example.com\",\n",
    "    \"phone\": \"+1 415 555 7890\",\n",
    "    \"role\": \"startup\",\n",
    "    \"confirmed\": False,\n",
    "    \"company\": \"GreenStartups\",\n",
    "    \"password\": \"hashedpassword456\"\n",
    "}\n",
    "\n",
    "user3 = {\n",
    "    \"firstName\": \"Sofía\",\n",
    "    \"lastName\": \"Pérez\",\n",
    "    \"secondLastName\": \"López\",\n",
    "    \"email\": \"sofia.perez@example.com\",\n",
    "    \"phone\": \"+52 55 1234 5678\",\n",
    "    \"role\": \"trainer\",\n",
    "    \"confirmed\": True,\n",
    "    \"company\": \"Innovative Minds\",\n",
    "    \"password\": \"hashedpassword789\"\n",
    "}"
   ]
  },
  {
   "cell_type": "code",
   "execution_count": 70,
   "id": "19859ab9",
   "metadata": {},
   "outputs": [
    {
     "name": "stdout",
     "output_type": "stream",
     "text": [
      "Usuario insertado con ID: [ObjectId('68792c64df14b1b7d0017db0'), ObjectId('68792c64df14b1b7d0017db1'), ObjectId('68792c64df14b1b7d0017db2')]\n"
     ]
    }
   ],
   "source": [
    "resultado = user.insert_many([user1,user2,user3])\n",
    "print(f\"Usuario insertado con ID: {resultado.inserted_ids}\")"
   ]
  },
  {
   "cell_type": "code",
   "execution_count": 39,
   "id": "9dcd99ee",
   "metadata": {},
   "outputs": [],
   "source": [
    "trainer = mydb[\"trainer\"]"
   ]
  },
  {
   "cell_type": "code",
   "execution_count": 71,
   "id": "f594aa2c",
   "metadata": {},
   "outputs": [],
   "source": [
    "\n",
    "trainer1 = {\n",
    "    \"firstName\": \"Carlos\",\n",
    "    \"lastName\": \"Ramírez\",\n",
    "    \"position\": \"Senior Business Consultant\",\n",
    "    \"company\": \"Consulting Pro\",\n",
    "    \"email\": \"carlos.ramirez@consultingpro.com\",\n",
    "    \"linkedin\": \"https://linkedin.com/in/carlosramirez\",\n",
    "    \"photo\": \"https://example.com/photos/carlos.jpg\",     \n",
    "    \"logo\": \"https://example.com/logos/consultingpro.png\",  \n",
    "    \"session_id\": \"64f1a23b9cd0e3e1f10a1234\"\n",
    "}\n",
    "\n",
    "trainer2 = {\n",
    "    \"firstName\": \"Elena\",\n",
    "    \"lastName\": \"Martínez\",\n",
    "    \"position\": \"Digital Marketing Expert\",\n",
    "    \"company\": \"MarketGenius\",\n",
    "    \"email\": \"elena.martinez@marketgenius.com\",\n",
    "    \"linkedin\": \"https://linkedin.com/in/elenamartinez\",\n",
    "    \"photo\": \"https://example.com/photos/elena.jpg\",\n",
    "    \"logo\": \"https://example.com/logos/marketgenius.png\",\n",
    "    \"session_id\": \"64f1a23b9cd0e3e1f10a5678\"\n",
    "}\n",
    "\n",
    "trainer3 = {\n",
    "    \"firstName\": \"John\",\n",
    "    \"lastName\": \"Doe\",\n",
    "    \"position\": \"Startup Mentor\",\n",
    "    \"company\": \"InnovateHub\",\n",
    "    \"email\": \"john.doe@innovatehub.com\",\n",
    "    \"linkedin\": \"https://linkedin.com/in/johndoe\",\n",
    "    \"photo\": \"https://example.com/photos/john.jpg\",\n",
    "    \"logo\": \"https://example.com/logos/innovatehub.png\",\n",
    "    \"session_id\": \"64f1a23b9cd0e3e1f10a9101\"\n",
    "}"
   ]
  },
  {
   "cell_type": "code",
   "execution_count": 72,
   "id": "0a642c7a",
   "metadata": {},
   "outputs": [
    {
     "name": "stdout",
     "output_type": "stream",
     "text": [
      "Usuario insertado con ID: [ObjectId('68792cb8df14b1b7d0017db3'), ObjectId('68792cb8df14b1b7d0017db4'), ObjectId('68792cb8df14b1b7d0017db5')]\n"
     ]
    }
   ],
   "source": [
    "resultado = trainer.insert_many([trainer1,trainer2,trainer3])\n",
    "print(f\"Usuario insertado con ID: {resultado.inserted_ids}\")"
   ]
  },
  {
   "cell_type": "code",
   "execution_count": 73,
   "id": "893e1069",
   "metadata": {},
   "outputs": [],
   "source": [
    "calendar = mydb[\"calendar\"]"
   ]
  },
  {
   "cell_type": "code",
   "execution_count": 74,
   "id": "b5acc317",
   "metadata": {},
   "outputs": [],
   "source": [
    "calendar1 = {\n",
    "    \"name\": \"Kickoff Meeting\",\n",
    "    \"startDate\": \"2025-09-01\",\n",
    "    \"startTime\": \"09:00\",\n",
    "    \"endTime\": \"10:30\",\n",
    "    \"location\": \"Main Conference Room\"\n",
    "}\n",
    "\n",
    "calendar2 = {\n",
    "    \"name\": \"Product Launch\",\n",
    "    \"startDate\": \"2025-10-15\",\n",
    "    \"startTime\": \"14:00\",\n",
    "    \"endTime\": \"16:00\",\n",
    "    \"location\": \"Auditorium A\"\n",
    "}\n",
    "\n",
    "calendar3 = {\n",
    "    \"name\": \"Networking Event\",\n",
    "    \"startDate\": \"2025-11-20\",\n",
    "    \"startTime\": \"18:30\",\n",
    "    \"endTime\": \"21:00\",\n",
    "    \"location\": \"Rooftop Terrace\"\n",
    "}"
   ]
  },
  {
   "cell_type": "code",
   "execution_count": 75,
   "id": "d405cedd",
   "metadata": {},
   "outputs": [
    {
     "name": "stdout",
     "output_type": "stream",
     "text": [
      "Usuario insertado con ID: [ObjectId('68792cc0df14b1b7d0017db6'), ObjectId('68792cc0df14b1b7d0017db7'), ObjectId('68792cc0df14b1b7d0017db8')]\n"
     ]
    }
   ],
   "source": [
    "resultado = calendar.insert_many([calendar1,calendar2,calendar3])\n",
    "print(f\"Usuario insertado con ID: {resultado.inserted_ids}\")"
   ]
  },
  {
   "cell_type": "code",
   "execution_count": 76,
   "id": "8c0f5ec8",
   "metadata": {},
   "outputs": [],
   "source": [
    "mentorship = mydb[\"mentorship\"]"
   ]
  },
  {
   "cell_type": "code",
   "execution_count": 77,
   "id": "3a2a1786",
   "metadata": {},
   "outputs": [],
   "source": [
    "mentorship1 = {\n",
    "    \"startDate\": \"2025-09-10\",\n",
    "    \"time\": \"15:00\",\n",
    "    \"mentor_id\": \"64f1a23b9cd0e3e1f10a1234\",\n",
    "    \"startup_id\": \"64f1a23b9cd0e3e1f10a5678\",\n",
    "    \"email\": \"contact@startupxyz.com\",\n",
    "    \"participantsNames\": \"Ana López, Pedro García\",\n",
    "    \"topics\": \"Business model validation, Marketing strategy\",\n",
    "    \"observations\": \"Startup is in early stage, needs focus on customer acquisition\",\n",
    "    \"suggestions\": \"Focus on social media campaigns and partnerships\"\n",
    "}\n",
    "\n",
    "mentorship2 = {\n",
    "    \"startDate\": \"2025-10-05\",\n",
    "    \"time\": \"11:00\",\n",
    "    \"mentor_id\": \"64f1a23b9cd0e3e1f10a7890\",\n",
    "    \"startup_id\": \"64f1a23b9cd0e3e1f10a2345\",\n",
    "    \"email\": \"info@innovatehub.com\",\n",
    "    \"participantsNames\": \"Sofía Pérez, Miguel Torres\",\n",
    "    \"topics\": \"Product development, User feedback\",\n",
    "    \"observations\": \"Product needs refinement in UX\",\n",
    "    \"suggestions\": \"Conduct user testing and iterate design\"\n",
    "}\n",
    "\n",
    "mentorship3 = {\n",
    "    \"startDate\": \"2025-11-20\",\n",
    "    \"time\": \"09:30\",\n",
    "    \"mentor_id\": \"64f1a23b9cd0e3e1f10a3456\",\n",
    "    \"startup_id\": \"64f1a23b9cd0e3e1f10a6789\",\n",
    "    \"email\": \"contact@startupabc.com\",\n",
    "    \"participantsNames\": \"Laura Gómez, Carlos Ruiz\",\n",
    "    \"topics\": \"Funding rounds, Investor pitch\",\n",
    "    \"observations\": \"Startup is preparing for seed funding\",\n",
    "    \"suggestions\": \"Refine pitch deck and financial projections\"\n",
    "}\n"
   ]
  },
  {
   "cell_type": "code",
   "execution_count": 78,
   "id": "0bb252ae",
   "metadata": {},
   "outputs": [
    {
     "name": "stdout",
     "output_type": "stream",
     "text": [
      "Usuario insertado con ID: [ObjectId('68792cdfdf14b1b7d0017db9'), ObjectId('68792cdfdf14b1b7d0017dba'), ObjectId('68792cdfdf14b1b7d0017dbb')]\n"
     ]
    }
   ],
   "source": [
    "resultado = mentorship.insert_many([mentorship1,mentorship2,mentorship3])\n",
    "print(f\"Usuario insertado con ID: {resultado.inserted_ids}\")"
   ]
  },
  {
   "cell_type": "code",
   "execution_count": 79,
   "id": "970926af",
   "metadata": {},
   "outputs": [],
   "source": [
    "startup = mydb[\"startup\"]"
   ]
  },
  {
   "cell_type": "code",
   "execution_count": 80,
   "id": "9b447f9b",
   "metadata": {},
   "outputs": [],
   "source": [
    "startup1 = {\n",
    "    \"name\": \"GreenTech Solutions\",\n",
    "    \"description\": \"Developing sustainable energy solutions.\",\n",
    "    \"sector\": \"Energy\",\n",
    "    \"website\": \"https://greentech.example.com\",\n",
    "    \"stage\": \"Seed\",\n",
    "    \"fundingRounds\": 1,\n",
    "    \"awards\": \"Best Startup 2024\",\n",
    "    \"contact\": \"+34 600 123 456\",\n",
    "    \"role\": \"Founder\",\n",
    "    \"email\": \"founder@greentech.example.com\",\n",
    "    \"logo\": \"https://example.com/logos/greentech.png\",\n",
    "    \"submission_time\": \"2025-07-01T10:30:00\"\n",
    "}\n",
    "\n",
    "startup2 = {\n",
    "    \"name\": \"HealthPlus\",\n",
    "    \"description\": \"Innovative healthcare app for remote monitoring.\",\n",
    "    \"sector\": \"Health Tech\",\n",
    "    \"website\": \"https://healthplus.example.com\",\n",
    "    \"stage\": \"Series A\",\n",
    "    \"fundingRounds\": 2,\n",
    "    \"awards\": \"Health Innovation Award 2023\",\n",
    "    \"contact\": \"+1 415 555 7890\",\n",
    "    \"role\": \"CEO\",\n",
    "    \"email\": \"ceo@healthplus.example.com\",\n",
    "    \"logo\": \"https://example.com/logos/healthplus.png\",\n",
    "    \"submission_time\": \"2025-06-20T14:00:00\"\n",
    "}\n",
    "\n",
    "startup3 = {\n",
    "    \"name\": \"EduSmart\",\n",
    "    \"description\": \"Platform for personalized education solutions.\",\n",
    "    \"sector\": \"EdTech\",\n",
    "    \"website\": \"https://edusmart.example.com\",\n",
    "    \"stage\": \"Pre-seed\",\n",
    "    \"fundingRounds\": 0,\n",
    "    \"awards\": \"\",\n",
    "    \"contact\": \"+44 20 7946 0958\",\n",
    "    \"role\": \"Co-founder\",\n",
    "    \"email\": \"cofounder@edusmart.example.com\",\n",
    "    \"logo\": \"https://example.com/logos/edusmart.png\",\n",
    "    \"submission_time\": \"2025-08-15T09:15:00\"\n",
    "}"
   ]
  },
  {
   "cell_type": "code",
   "execution_count": 81,
   "id": "02aabe98",
   "metadata": {},
   "outputs": [
    {
     "name": "stdout",
     "output_type": "stream",
     "text": [
      "Usuario insertado con ID: [ObjectId('68792ce5df14b1b7d0017dbc'), ObjectId('68792ce5df14b1b7d0017dbd'), ObjectId('68792ce5df14b1b7d0017dbe')]\n"
     ]
    }
   ],
   "source": [
    "resultado = startup.insert_many([startup1,startup2,startup3])\n",
    "print(f\"Usuario insertado con ID: {resultado.inserted_ids}\")"
   ]
  },
  {
   "cell_type": "code",
   "execution_count": 82,
   "id": "e3c41c7b",
   "metadata": {},
   "outputs": [],
   "source": [
    "mentor = mydb[\"mentor\"]"
   ]
  },
  {
   "cell_type": "code",
   "execution_count": 83,
   "id": "35390786",
   "metadata": {},
   "outputs": [],
   "source": [
    "mentor1 = {\n",
    "    \"name\": \"Luis Fernández\",\n",
    "    \"company\": \"TechMentors Inc.\",\n",
    "    \"availabilityDate\": \"2025-08-15\",\n",
    "    \"linkedin\": \"https://linkedin.com/in/luisfernandez\",\n",
    "    \"logo\": \"https://example.com/photos/luis.png\",\n",
    "    \"website\": \"https://techmentors.example.com\",\n",
    "    \"position\": \"Senior Advisor\",\n",
    "    \"mentoringAreas\": \"Startup Growth, Funding Strategies\",\n",
    "    \"email\": \"luis@techmentors.example.com\",\n",
    "    \"phone\": \"+34 600 654 321\",\n",
    "    \"managementLink\": \"https://mentorships.example.com/luis\"\n",
    "}\n",
    "\n",
    "mentor2 = {\n",
    "    \"name\": \"Ana Morales\",\n",
    "    \"company\": \"InnovateHub\",\n",
    "    \"availabilityDate\": \"2025-09-01\",\n",
    "    \"linkedin\": \"https://linkedin.com/in/anamorales\",\n",
    "    \"logo\": \"https://example.com/photos/ana.png\",\n",
    "    \"website\": \"https://innovatehub.example.com\",\n",
    "    \"position\": \"Business Coach\",\n",
    "    \"mentoringAreas\": \"Marketing, Product Development\",\n",
    "    \"email\": \"ana@innovatehub.example.com\",\n",
    "    \"phone\": \"+1 415 555 1234\",\n",
    "    \"managementLink\": \"https://mentorships.example.com/ana\"\n",
    "}\n",
    "\n",
    "mentor3 = {\n",
    "    \"name\": \"John Smith\",\n",
    "    \"company\": \"Startup Advisors\",\n",
    "    \"availabilityDate\": \"2025-10-10\",\n",
    "    \"linkedin\": \"https://linkedin.com/in/johnsmith\",\n",
    "    \"logo\": \"https://example.com/photos/john.png\",\n",
    "    \"website\": \"https://startupadvisors.example.com\",\n",
    "    \"position\": \"Mentor\",\n",
    "    \"mentoringAreas\": \"Investment, Scaling\",\n",
    "    \"email\": \"john@startupadvisors.example.com\",\n",
    "    \"phone\": \"+44 20 7946 0850\",\n",
    "    \"managementLink\": \"https://mentorships.example.com/john\"\n",
    "}"
   ]
  },
  {
   "cell_type": "code",
   "execution_count": 84,
   "id": "be869eab",
   "metadata": {},
   "outputs": [
    {
     "name": "stdout",
     "output_type": "stream",
     "text": [
      "Usuario insertado con ID: [ObjectId('68792ce9df14b1b7d0017dbf'), ObjectId('68792ce9df14b1b7d0017dc0'), ObjectId('68792ce9df14b1b7d0017dc1')]\n"
     ]
    }
   ],
   "source": [
    "resultado = mentor.insert_many([mentor1,mentor2,mentor3])\n",
    "print(f\"Usuario insertado con ID: {resultado.inserted_ids}\")"
   ]
  },
  {
   "cell_type": "code",
   "execution_count": 85,
   "id": "ee82266e",
   "metadata": {},
   "outputs": [],
   "source": [
    "event = mydb[\"event\"]"
   ]
  },
  {
   "cell_type": "code",
   "execution_count": 86,
   "id": "cebca2cb",
   "metadata": {},
   "outputs": [],
   "source": [
    "event1 = {\n",
    "    \"name\": \"Annual Startup Summit\",\n",
    "    \"location\": \"Madrid Conference Center\",\n",
    "    \"startDate\": \"2025-10-10\"\n",
    "}\n",
    "\n",
    "event2 = {\n",
    "    \"name\": \"Tech Innovation Fair\",\n",
    "    \"location\": \"Barcelona Expo\",\n",
    "    \"startDate\": \"2025-11-05\"\n",
    "}\n",
    "\n",
    "event3 = {\n",
    "    \"name\": \"Investor Meetup\",\n",
    "    \"location\": \"London Business Hub\",\n",
    "    \"startDate\": \"2025-12-01\"\n",
    "}"
   ]
  },
  {
   "cell_type": "code",
   "execution_count": 87,
   "id": "bd6cecbb",
   "metadata": {},
   "outputs": [
    {
     "name": "stdout",
     "output_type": "stream",
     "text": [
      "Usuario insertado con ID: [ObjectId('68792cecdf14b1b7d0017dc2'), ObjectId('68792cecdf14b1b7d0017dc3'), ObjectId('68792cecdf14b1b7d0017dc4')]\n"
     ]
    }
   ],
   "source": [
    "resultado = event.insert_many([event1,event2,event3])\n",
    "print(f\"Usuario insertado con ID: {resultado.inserted_ids}\")"
   ]
  },
  {
   "cell_type": "code",
   "execution_count": 88,
   "id": "2c402d2c",
   "metadata": {},
   "outputs": [],
   "source": [
    "activity = mydb[\"activity\"]"
   ]
  },
  {
   "cell_type": "code",
   "execution_count": 89,
   "id": "13c2c561",
   "metadata": {},
   "outputs": [],
   "source": [
    "activity1 = {\n",
    "    \"name\": \"Pitch Workshop\",\n",
    "    \"startDate\": \"2025-10-11\",\n",
    "    \"time\": \"10:00\",\n",
    "    \"location\": \"Room 101\",\n",
    "    \"description\": \"Workshop to improve pitch skills for startups.\",\n",
    "    \"attendance\": 45,\n",
    "    \"format\": \"In-person\"\n",
    "}\n",
    "\n",
    "activity2 = {\n",
    "    \"name\": \"Networking Lunch\",\n",
    "    \"startDate\": \"2025-10-11\",\n",
    "    \"time\": \"13:00\",\n",
    "    \"location\": \"Cafeteria\",\n",
    "    \"description\": \"Casual lunch to network with other entrepreneurs.\",\n",
    "    \"attendance\": 60,\n",
    "    \"format\": \"In-person\"\n",
    "}\n",
    "\n",
    "activity3 = {\n",
    "    \"name\": \"Virtual Q&A Session\",\n",
    "    \"startDate\": \"2025-10-12\",\n",
    "    \"time\": \"16:00\",\n",
    "    \"location\": \"Online - Zoom\",\n",
    "    \"description\": \"Q&A with investors and mentors.\",\n",
    "    \"attendance\": 80,\n",
    "    \"format\": \"Online\"\n",
    "}"
   ]
  },
  {
   "cell_type": "code",
   "execution_count": 90,
   "id": "32aaa313",
   "metadata": {},
   "outputs": [
    {
     "name": "stdout",
     "output_type": "stream",
     "text": [
      "Usuario insertado con ID: [ObjectId('68792cf1df14b1b7d0017dc5'), ObjectId('68792cf1df14b1b7d0017dc6'), ObjectId('68792cf1df14b1b7d0017dc7')]\n"
     ]
    }
   ],
   "source": [
    "resultado = activity.insert_many([activity1,activity2,activity3])\n",
    "print(f\"Usuario insertado con ID: {resultado.inserted_ids}\")"
   ]
  }
 ],
 "metadata": {
  "kernelspec": {
   "display_name": "desafio_env",
   "language": "python",
   "name": "python3"
  },
  "language_info": {
   "codemirror_mode": {
    "name": "ipython",
    "version": 3
   },
   "file_extension": ".py",
   "mimetype": "text/x-python",
   "name": "python",
   "nbconvert_exporter": "python",
   "pygments_lexer": "ipython3",
   "version": "3.11.13"
  }
 },
 "nbformat": 4,
 "nbformat_minor": 5
}
