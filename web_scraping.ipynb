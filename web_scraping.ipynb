{
 "cells": [
  {
   "cell_type": "code",
   "execution_count": 3,
   "id": "d14e857e",
   "metadata": {},
   "outputs": [],
   "source": [
    "from PIL import Image\n",
    "from google import genai\n",
    "from dotenv import load_dotenv\n",
    "import os\n",
    "import json\n",
    "import re\n",
    "\n",
    "load_dotenv()\n",
    "\n",
    "def generate_response(image_path):\n",
    "\n",
    "    client = genai.Client(api_key=os.environ['GEMINI_API_KEY'])\n",
    "\n",
    "    prompt = '''\n",
    "Extract all the text from the picture and return it in a JSON format, using English keys.\n",
    "Example of desired output:\n",
    "\n",
    "{\n",
    "    \"name\": \"...\",\n",
    "    \"position\": \"...\",\n",
    "    \"email\": \"...\",\n",
    "    \"company\": \"...\",\n",
    "    \"linkedIn\": \"...\",\n",
    "    \"studyProgram\": \"...\",\n",
    "    \"photo\": \"...\"\n",
    "}\n",
    "\n",
    "Translate the field names to English. You don't need to translate the values, just the field names.\n",
    "'''\n",
    "    image = Image.open(image_path)\n",
    "    response = client.models.generate_content(\n",
    "        model=\"gemini-2.5-pro\",\n",
    "        contents=[image,prompt ]\n",
    "    )\n",
    "    output = response.text\n",
    "    return output\n",
    "\n",
    "def convert_to_dict(json_file):\n",
    "\n",
    "    json_string_clean = re.sub(r'^```json\\n|\\n```$', '', json_file, flags=re.MULTILINE)\n",
    "    startup_dict = json.loads(json_string_clean)\n",
    "    return startup_dict"
   ]
  },
  {
   "cell_type": "code",
   "execution_count": null,
   "id": "611b081d",
   "metadata": {},
   "outputs": [],
   "source": []
  },
  {
   "cell_type": "code",
   "execution_count": null,
   "id": "208a7da4",
   "metadata": {},
   "outputs": [
    {
     "name": "stdout",
     "output_type": "stream",
     "text": [
      "Total imágenes encontradas: 5\n",
      "\n",
      "Procesando images/actividades\\investors_day.png...\n",
      "✅ Procesado investors_day.png: {'event_name': 'Investors Day', 'date': 'Diciembre 2025', 'time': 'TBD', 'location': 'Sala Multiusos, La Harinera', 'description': 'TBD', 'attendance': 'Empty', 'format': 'Presencial'}\n",
      "\n",
      "Procesando images/actividades\\pitch_showcase.png...\n",
      "✅ Procesado pitch_showcase.png: {'name': 'Pitch Showcase', 'date': 'Julio 2025', 'schedule': 'TBD', 'location': 'Sala Multiusos, La Harinera', 'description': 'Mentores, formadores y agentes del ecosistema que se dividirán en comités de feedback para hacer sesiones de pitches simultáneas que puedan dar una primera valoración del pitch de cada startup.', 'attendance': 'Privado', 'format': 'Empty'}\n",
      "\n",
      "Procesando images/actividades\\reverse_pitches.png...\n",
      "✅ Procesado reverse_pitches.png: {'title': 'Reverse Pitches', 'date': 'Septiembre 2025', 'schedule': 'TBD', 'location': 'Sala Multiusos, La Harinera', 'description': 'En este evento, los participantes tendrán la oportunidad de escuchar presentaciones realizadas por los principales fondos de inversión y business angels. Durante las exposiciones, los inversores compartirán sus criterios clave para evaluar y seleccionar startups en las que invertir.', 'attendance': 'Privado', 'format': 'Empty'}\n",
      "\n",
      "Procesando images/actividades\\startup_valencia.png...\n",
      "✅ Procesado startup_valencia.png: {'name': 'Startup Valencia', 'position': 'Socios', 'email': 'Empty', 'company': 'Urban Sports, Zeus, Rudo, Vidext, ARTHEx Biotech', 'linkedIn': 'Empty', 'studyProgram': 'Presentación del Programa. Dinámica Icebreaker Pitches y Networking Beers', 'photo': 'Startup Valencia logo'}\n",
      "\n",
      "Procesando images/actividades\\tba.png...\n",
      "✅ Procesado tba.png: {'name': 'TBA', 'date': 'Noviembre 2025', 'time': 'TBD', 'location': 'Sala Multiusos, La Harinera', 'description': 'TBD', 'attendance': 'Privado', 'format': 'Empty'}\n",
      "\n",
      "📊 Datos finales extraídos:\n",
      "[{'event_name': 'Investors Day', 'date': 'Diciembre 2025', 'time': 'TBD', 'location': 'Sala Multiusos, La Harinera', 'description': 'TBD', 'attendance': 'Empty', 'format': 'Presencial'}, {'name': 'Pitch Showcase', 'date': 'Julio 2025', 'schedule': 'TBD', 'location': 'Sala Multiusos, La Harinera', 'description': 'Mentores, formadores y agentes del ecosistema que se dividirán en comités de feedback para hacer sesiones de pitches simultáneas que puedan dar una primera valoración del pitch de cada startup.', 'attendance': 'Privado', 'format': 'Empty'}, {'title': 'Reverse Pitches', 'date': 'Septiembre 2025', 'schedule': 'TBD', 'location': 'Sala Multiusos, La Harinera', 'description': 'En este evento, los participantes tendrán la oportunidad de escuchar presentaciones realizadas por los principales fondos de inversión y business angels. Durante las exposiciones, los inversores compartirán sus criterios clave para evaluar y seleccionar startups en las que invertir.', 'attendance': 'Privado', 'format': 'Empty'}, {'name': 'Startup Valencia', 'position': 'Socios', 'email': 'Empty', 'company': 'Urban Sports, Zeus, Rudo, Vidext, ARTHEx Biotech', 'linkedIn': 'Empty', 'studyProgram': 'Presentación del Programa. Dinámica Icebreaker Pitches y Networking Beers', 'photo': 'Startup Valencia logo'}, {'name': 'TBA', 'date': 'Noviembre 2025', 'time': 'TBD', 'location': 'Sala Multiusos, La Harinera', 'description': 'TBD', 'attendance': 'Privado', 'format': 'Empty'}]\n"
     ]
    }
   ],
   "source": [
    "folder_path = 'images/session'\n",
    "image_files = [f for f in os.listdir(folder_path) if f.lower().endswith(('.jpg', '.jpeg', '.png'))]\n",
    "\n",
    "print(f\"Total imágenes encontradas: {len(image_files)}\")\n",
    "\n",
    "all_data = []\n",
    "\n",
    "for img_file in image_files:\n",
    "    image_path = os.path.join(folder_path, img_file)\n",
    "    print(f\"\\nProcesando {image_path}...\")\n",
    "    try:\n",
    "        gemini_output = generate_response(image_path)\n",
    "        data_dict = convert_to_dict(gemini_output)\n",
    "        all_data.append(data_dict)\n",
    "        print(f\"✅ Procesado {img_file}: {data_dict}\")\n",
    "    except Exception as e:\n",
    "        print(f\"❌ Error procesando {img_file}: {e}\")\n",
    "\n",
    "print(\"\\n📊 Datos finales extraídos:\")\n",
    "print(all_data)"
   ]
  }
 ],
 "metadata": {
  "kernelspec": {
   "display_name": "desafio_env",
   "language": "python",
   "name": "python3"
  },
  "language_info": {
   "codemirror_mode": {
    "name": "ipython",
    "version": 3
   },
   "file_extension": ".py",
   "mimetype": "text/x-python",
   "name": "python",
   "nbconvert_exporter": "python",
   "pygments_lexer": "ipython3",
   "version": "3.11.13"
  }
 },
 "nbformat": 4,
 "nbformat_minor": 5
}
